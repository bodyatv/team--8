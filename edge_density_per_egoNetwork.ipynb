{
 "cells": [
  {
   "cell_type": "code",
   "execution_count": 1,
   "metadata": {},
   "outputs": [],
   "source": [
    "import math\n",
    "import os\n",
    "import pandas as pd\n",
    "\n",
    "path = \"./data/egonets/\"\n",
    "egonets = os.listdir(path)\n",
    "fileNames = []\n",
    "\n",
    "edge_count = []\n",
    "maximum_edge_count = []\n",
    "edge_density = []\n",
    "egoNetNames = []\n",
    "peopleCount = []\n",
    "\n",
    "#create adjacency lists for each ego network; \n",
    "#adjacency list is a list of ordered tuples representing a pair of people who are connected\n",
    "#pairs do not repeat\n",
    "\n",
    "#number of edges is calculated per ego network (edge_count)\n",
    "#edge density is calculated per ego network as ratio of actual edge count to all possible pairs between people included in ego network\n",
    "\n",
    "i = 0    \n",
    "for file in egonets:\n",
    "    egoNet = open(path+file)\n",
    "    lines=egoNet.readlines()\n",
    "    lines = map(lambda x: x[:-1], lines)\n",
    "    adj_egoNet = set()\n",
    "    egoNet_i = []\n",
    "    #we have list of lines of some egonet file\n",
    "    for line in lines:\n",
    "        line=line.split(': ')\n",
    "        egoNet_i.append(line)\n",
    "    for item in egoNet_i:\n",
    "        if int(file[:-7]) < int(item[0]):\n",
    "            adj_egoNet.add((file[:-7], item[0]))\n",
    "        else:\n",
    "            adj_egoNet.add(item[0]), (file[:-7])\n",
    "    for row in egoNet_i:\n",
    "        id1 = row[0]\n",
    "        friends = row[1].split()\n",
    "        for k in friends:\n",
    "            if int(id1) < int(k):\n",
    "                adj_egoNet.add((id1, k))\n",
    "            else:\n",
    "                adj_egoNet.add((k, id1))\n",
    "    peopleCount.append(len(egoNet_i)+1)\n",
    "    egoNetNames.append(file[:-7])\n",
    "    edge_count.append(len(adj_egoNet))\n",
    "    maximum_edge_count.append(math.factorial(len(egoNet_i) + 1)/(math.factorial(len(egoNet_i) + 1 - 2)*math.factorial(2)))\n",
    "    edge_density.append(edge_count[i] / maximum_edge_count[i])\n",
    "    \n",
    "    adj_egoNet = list(adj_egoNet)\n",
    "    adj_egoNet = sorted(adj_egoNet, key=lambda x: [int(x[0]), int(x[1])])\n",
    "    adj_egoNet_file = open(\"./data/egonets_adj/adj_egoNet{0}.txt\".format(file[:-7]),\"w\") \n",
    " \n",
    "    s = ''\n",
    "    for elem in adj_egoNet:\n",
    "        s = s + str(elem[0]) + ' ' + str(elem[1]) + '\\n'\n",
    "    adj_egoNet_file.write(s) \n",
    "\n",
    "    adj_egoNet_file.close()\n",
    "    i+=1"
   ]
  },
  {
   "cell_type": "code",
   "execution_count": 3,
   "metadata": {},
   "outputs": [
    {
     "data": {
      "text/html": [
       "<div>\n",
       "<style scoped>\n",
       "    .dataframe tbody tr th:only-of-type {\n",
       "        vertical-align: middle;\n",
       "    }\n",
       "\n",
       "    .dataframe tbody tr th {\n",
       "        vertical-align: top;\n",
       "    }\n",
       "\n",
       "    .dataframe thead th {\n",
       "        text-align: right;\n",
       "    }\n",
       "</style>\n",
       "<table border=\"1\" class=\"dataframe\">\n",
       "  <thead>\n",
       "    <tr style=\"text-align: right;\">\n",
       "      <th></th>\n",
       "      <th>peopleCount</th>\n",
       "      <th>edge_count</th>\n",
       "      <th>maximum_edge_count</th>\n",
       "      <th>edge_density</th>\n",
       "    </tr>\n",
       "  </thead>\n",
       "  <tbody>\n",
       "    <tr>\n",
       "      <th>0</th>\n",
       "      <td>239</td>\n",
       "      <td>4448</td>\n",
       "      <td>28441.0</td>\n",
       "      <td>0.156394</td>\n",
       "    </tr>\n",
       "    <tr>\n",
       "      <th>10395</th>\n",
       "      <td>398</td>\n",
       "      <td>7140</td>\n",
       "      <td>79003.0</td>\n",
       "      <td>0.090376</td>\n",
       "    </tr>\n",
       "    <tr>\n",
       "      <th>10793</th>\n",
       "      <td>136</td>\n",
       "      <td>1574</td>\n",
       "      <td>9180.0</td>\n",
       "      <td>0.171460</td>\n",
       "    </tr>\n",
       "    <tr>\n",
       "      <th>10929</th>\n",
       "      <td>85</td>\n",
       "      <td>413</td>\n",
       "      <td>3570.0</td>\n",
       "      <td>0.115686</td>\n",
       "    </tr>\n",
       "    <tr>\n",
       "      <th>1099</th>\n",
       "      <td>211</td>\n",
       "      <td>1414</td>\n",
       "      <td>22155.0</td>\n",
       "      <td>0.063823</td>\n",
       "    </tr>\n",
       "  </tbody>\n",
       "</table>\n",
       "</div>"
      ],
      "text/plain": [
       "       peopleCount  edge_count  maximum_edge_count  edge_density\n",
       "0              239        4448             28441.0      0.156394\n",
       "10395          398        7140             79003.0      0.090376\n",
       "10793          136        1574              9180.0      0.171460\n",
       "10929           85         413              3570.0      0.115686\n",
       "1099           211        1414             22155.0      0.063823"
      ]
     },
     "execution_count": 3,
     "metadata": {},
     "output_type": "execute_result"
    }
   ],
   "source": [
    "edgeStructure = {'peopleCount': peopleCount, 'edge_count': edge_count, 'maximum_edge_count': maximum_edge_count, 'edge_density': edge_density}\n",
    "df_edgeStructure = pd.DataFrame(data=edgeStructure, index=egoNetNames)\n",
    "df_edgeStructure.head(5)"
   ]
  },
  {
   "cell_type": "code",
   "execution_count": 5,
   "metadata": {},
   "outputs": [
    {
     "data": {
      "image/png": "[encoded data removed]",
      "text/plain": [
       "<Figure size 432x288 with 1 Axes>"
      ]
     },
     "metadata": {},
     "output_type": "display_data"
    }
   ],
   "source": [
    "ax1 = df_edgeStructure.plot.scatter(x='peopleCount',\n",
    "...                       y='edge_count')"
   ]
  },
  {
   "cell_type": "code",
   "execution_count": 6,
   "metadata": {},
   "outputs": [
    {
     "data": {
      "image/png": "[encoded data removed]",
      "text/plain": [
       "<Figure size 432x288 with 1 Axes>"
      ]
     },
     "metadata": {},
     "output_type": "display_data"
    }
   ],
   "source": [
    "ax2 = df_edgeStructure.plot.scatter(x='peopleCount',\n",
    "...                       y='edge_density')"
   ]
  },
  {
   "cell_type": "code",
   "execution_count": null,
   "metadata": {},
   "outputs": [],
   "source": []
  }
 ],
 "metadata": {
  "kernelspec": {
   "display_name": "Python 3",
   "language": "python",
   "name": "python3"
  },
  "language_info": {
   "codemirror_mode": {
    "name": "ipython",
    "version": 3
   },
   "file_extension": ".py",
   "mimetype": "text/x-python",
   "name": "python",
   "nbconvert_exporter": "python",
   "pygments_lexer": "ipython3",
   "version": "3.6.5"
  }
 },
 "nbformat": 4,
 "nbformat_minor": 2
}
